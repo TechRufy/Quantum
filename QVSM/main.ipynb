{
 "cells": [
  {
   "cell_type": "code",
   "execution_count": 2,
   "outputs": [
    {
     "name": "stdout",
     "output_type": "stream",
     "text": [
      "dataset: breast_cancer\n",
      "Precomputed kernel classification test score and time: (0.96, 7.427336931228638) \n",
      " Callable kernel   classification test score: (0.96, 7.312180995941162) \n",
      " normal svc test score : (0.96, 1.0010457038879395) \n",
      "\n",
      "\n"
     ]
    }
   ],
   "source": [
    "\n",
    "import time\n",
    "from sklearn.svm import SVC\n",
    "from qiskit_machine_learning.kernels import QuantumKernel\n",
    "from qiskit_aer import AerSimulator, Aer\n",
    "from qiskit.circuit.library import ZZFeatureMap\n",
    "from Dataset.PreProcessing import caricaDataset\n",
    "\n",
    "\n",
    "dataset = \"breast_cancer\"\n",
    "n_dim, sample_train, label_train, sample_test, label_test = caricaDataset(dataset)\n",
    "\n",
    "\n",
    "num_qubits = n_dim\n",
    "feature_map = ZZFeatureMap(feature_dimension=num_qubits, reps=2, entanglement='linear')    \n",
    "\n",
    "# Create the quantum kernel\n",
    "adhoc_kernel = QuantumKernel(feature_map=feature_map, quantum_instance=Aer.get_backend('statevector_simulator'))\n",
    "\n",
    "time_classic_kernel_pre = time.time()\n",
    "time.sleep(1)\n",
    "normal_svc = SVC(kernel=\"poly\")\n",
    "normal_svc.fit(sample_train, label_train)\n",
    "y = normal_svc.score(sample_test, label_test)\n",
    "time_classic_kernel_post = time.time()\n",
    "y_time = time_classic_kernel_post - time_classic_kernel_pre\n",
    "\n",
    "\n",
    "time_quantum_prekernel_pre = time.time()\n",
    "time.sleep(1)\n",
    "matrix_train = adhoc_kernel.evaluate(x_vec=sample_train)\n",
    "matrix_test = adhoc_kernel.evaluate(x_vec=sample_test, y_vec=sample_train)\n",
    "zzpc_svc = SVC(kernel='precomputed')\n",
    "zzpc_svc.fit(matrix_train, label_train)\n",
    "z = zzpc_svc.score(matrix_test, label_test)\n",
    "time_quantum_prekernel_post = time.time()\n",
    "z_time = time_quantum_prekernel_post - time_quantum_prekernel_pre\n",
    "\n",
    "time_quantum_kernel_pre = time.time()\n",
    "time.sleep(1)\n",
    "quantum_svc = SVC(kernel=adhoc_kernel.evaluate)\n",
    "quantum_svc.fit(sample_train, label_train)\n",
    "x = quantum_svc.score(sample_test, label_test)\n",
    "time_quantum_kernel_post = time.time()\n",
    "x_time = time_quantum_kernel_post - time_quantum_kernel_pre\n",
    "\n",
    "print(f'dataset: ' + dataset)\n",
    "print(f'Precomputed kernel classification test score and time: {z,z_time} \\n Callable kernel   classification test score: {x,x_time} \\n normal svc test score : {y,y_time} \\n')\n",
    "print(\"\\n\")"
   ],
   "metadata": {
    "collapsed": false,
    "ExecuteTime": {
     "end_time": "2023-09-21T18:15:33.127428800Z",
     "start_time": "2023-09-21T18:15:17.276382500Z"
    }
   }
  }
 ],
 "metadata": {
  "kernelspec": {
   "display_name": "Python 3 (ipykernel)",
   "language": "python",
   "name": "python3"
  },
  "language_info": {
   "codemirror_mode": {
    "name": "ipython",
    "version": 3
   },
   "file_extension": ".py",
   "mimetype": "text/x-python",
   "name": "python",
   "nbconvert_exporter": "python",
   "pygments_lexer": "ipython3",
   "version": "3.10.2"
  }
 },
 "nbformat": 4,
 "nbformat_minor": 4
}
