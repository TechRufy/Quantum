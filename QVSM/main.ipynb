{
 "cells": [
  {
   "cell_type": "code",
   "execution_count": 26,
   "metadata": {
    "collapsed": true,
    "ExecuteTime": {
     "end_time": "2023-09-11T16:16:15.158688400Z",
     "start_time": "2023-09-11T16:16:15.133504600Z"
    }
   },
   "outputs": [],
   "source": [
    "import pandas as pd\n",
    "from sklearn.datasets import load_iris, load_breast_cancer, load_wine\n",
    "from sklearn.model_selection import train_test_split\n",
    "iris = load_breast_cancer()\n",
    "X, Y = iris.data, iris.target\n",
    "train_x, test_x, train_y, test_y = train_test_split(X, Y, test_size=30,train_size=30)"
   ]
  },
  {
   "cell_type": "code",
   "execution_count": 27,
   "outputs": [],
   "source": [
    "from qiskit.circuit.library import ZZFeatureMap\n",
    "seed = 10598\n",
    "num_qubits = 2\n",
    "feature_map = ZZFeatureMap(feature_dimension=num_qubits, reps=1, entanglement='linear')\n"
   ],
   "metadata": {
    "collapsed": false,
    "ExecuteTime": {
     "end_time": "2023-09-11T16:16:15.871292800Z",
     "start_time": "2023-09-11T16:16:15.839939500Z"
    }
   }
  },
  {
   "cell_type": "code",
   "execution_count": 28,
   "outputs": [],
   "source": [
    "from sklearn.decomposition import PCA\n",
    "\n",
    "pca = PCA(n_components=2)\n",
    "train_x = pca.fit_transform(train_x)\n",
    "test_x = pca.transform(test_x)"
   ],
   "metadata": {
    "collapsed": false,
    "ExecuteTime": {
     "end_time": "2023-09-11T16:16:16.450544300Z",
     "start_time": "2023-09-11T16:16:16.428322400Z"
    }
   }
  },
  {
   "cell_type": "code",
   "execution_count": 30,
   "outputs": [
    {
     "name": "stdout",
     "output_type": "stream",
     "text": [
      "0.43333333333333335 0.8\n"
     ]
    }
   ],
   "source": [
    "from sklearn.svm import SVC\n",
    "from qiskit_machine_learning.kernels import QuantumKernel\n",
    "from qiskit_aer import AerSimulator\n",
    "from qiskit_machine_learning.algorithms import QSVC\n",
    "# Create the quantum kernel\n",
    "adhoc_kernel = QuantumKernel(feature_map=feature_map,\n",
    "                             quantum_instance=AerSimulator(method=\"automatic\"))\n",
    "# Set the SVC algorithm to use our custom kernel\n",
    "quantum_svc = QSVC(quantum_kernel=adhoc_kernel)\n",
    "quantum_svc.fit(train_x, train_y)\n",
    "x = quantum_svc.score(test_x, test_y)\n",
    "\n",
    "normal_svc = SVC(kernel=\"linear\")\n",
    "normal_svc.fit(train_x, train_y)\n",
    "y = normal_svc.score(test_x, test_y)\n",
    "print(x,y)\n"
   ],
   "metadata": {
    "collapsed": false,
    "ExecuteTime": {
     "end_time": "2023-09-11T16:18:10.141298Z",
     "start_time": "2023-09-11T16:18:06.164935100Z"
    }
   }
  },
  {
   "cell_type": "code",
   "execution_count": null,
   "outputs": [],
   "source": [],
   "metadata": {
    "collapsed": false
   }
  }
 ],
 "metadata": {
  "kernelspec": {
   "display_name": "Python 3",
   "language": "python",
   "name": "python3"
  },
  "language_info": {
   "codemirror_mode": {
    "name": "ipython",
    "version": 2
   },
   "file_extension": ".py",
   "mimetype": "text/x-python",
   "name": "python",
   "nbconvert_exporter": "python",
   "pygments_lexer": "ipython2",
   "version": "2.7.6"
  }
 },
 "nbformat": 4,
 "nbformat_minor": 0
}
