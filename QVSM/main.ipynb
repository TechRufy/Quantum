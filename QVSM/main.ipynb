{
 "cells": [
  {
   "cell_type": "code",
   "execution_count": 5,
   "metadata": {
    "collapsed": true,
    "ExecuteTime": {
     "end_time": "2023-09-09T10:14:45.566492100Z",
     "start_time": "2023-09-09T10:14:45.520521Z"
    }
   },
   "outputs": [],
   "source": [
    "import pandas as pd\n",
    "import numpy as np\n",
    "from sklearn.datasets import load_iris, load_breast_cancer, load_wine\n",
    "from sklearn.model_selection import train_test_split\n",
    "iris = load_wine()\n",
    "X, Y = iris.data, iris.target\n",
    "train_x, test_x, train_y, test_y = train_test_split(X, Y, test_size=0.2)"
   ]
  },
  {
   "cell_type": "code",
   "execution_count": 6,
   "outputs": [],
   "source": [
    "from qiskit.circuit.library import ZZFeatureMap\n",
    "seed = 10598\n",
    "num_qubits = 5\n",
    "feature_map = ZZFeatureMap(feature_dimension=num_qubits, reps=1, entanglement='linear')\n"
   ],
   "metadata": {
    "collapsed": false,
    "ExecuteTime": {
     "end_time": "2023-09-09T10:14:46.970081900Z",
     "start_time": "2023-09-09T10:14:46.941804Z"
    }
   }
  },
  {
   "cell_type": "code",
   "execution_count": 7,
   "outputs": [],
   "source": [
    "from sklearn.decomposition import PCA\n",
    "\n",
    "pca = PCA(n_components=4)\n",
    "train_x = pca.fit_transform(train_x)\n",
    "test_x = pca.transform(test_x)"
   ],
   "metadata": {
    "collapsed": false,
    "ExecuteTime": {
     "end_time": "2023-09-09T10:14:47.947853400Z",
     "start_time": "2023-09-09T10:14:47.920462200Z"
    }
   }
  },
  {
   "cell_type": "code",
   "execution_count": 8,
   "outputs": [
    {
     "name": "stdout",
     "output_type": "stream",
     "text": [
      "0.3888888888888889 0.9444444444444444\n"
     ]
    }
   ],
   "source": [
    "from qiskit_algorithms.state_fidelities import ComputeUncompute\n",
    "from qiskit.primitives import Sampler\n",
    "from sklearn.svm import SVC\n",
    "from qiskit_machine_learning.kernels import QuantumKernel\n",
    "from qiskit_aer import AerSimulator\n",
    "# Create the quantum kernel\n",
    "adhoc_kernel = QuantumKernel(feature_map=feature_map,\n",
    "                             quantum_instance=AerSimulator(method=\"statevector\"))\n",
    "# Set the SVC algorithm to use our custom kernel\n",
    "quantum_svc = SVC(kernel=adhoc_kernel.evaluate)\n",
    "quantum_svc.fit(train_x, train_y)\n",
    "x = quantum_svc.score(test_x, test_y)\n",
    "\n",
    "normal_svc = SVC(kernel=\"linear\")\n",
    "normal_svc.fit(train_x, train_y)\n",
    "y = normal_svc.score(test_x, test_y)\n",
    "print(x,y)\n"
   ],
   "metadata": {
    "collapsed": false,
    "ExecuteTime": {
     "end_time": "2023-09-09T10:14:53.794570500Z",
     "start_time": "2023-09-09T10:14:48.699551500Z"
    }
   }
  },
  {
   "cell_type": "code",
   "execution_count": null,
   "outputs": [],
   "source": [],
   "metadata": {
    "collapsed": false
   }
  }
 ],
 "metadata": {
  "kernelspec": {
   "display_name": "Python 3",
   "language": "python",
   "name": "python3"
  },
  "language_info": {
   "codemirror_mode": {
    "name": "ipython",
    "version": 2
   },
   "file_extension": ".py",
   "mimetype": "text/x-python",
   "name": "python",
   "nbconvert_exporter": "python",
   "pygments_lexer": "ipython2",
   "version": "2.7.6"
  }
 },
 "nbformat": 4,
 "nbformat_minor": 0
}
